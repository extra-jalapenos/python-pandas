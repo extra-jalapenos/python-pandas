{
 "cells": [
  {
   "cell_type": "markdown",
   "id": "c665637f-e571-476e-baf4-85b3ecb9a7cf",
   "metadata": {},
   "source": [
    "# Pandas"
   ]
  },
  {
   "cell_type": "markdown",
   "id": "f8d39ff1-490e-4110-9ff1-8880fdba895c",
   "metadata": {},
   "source": [
    "### Homework"
   ]
  },
  {
   "cell_type": "markdown",
   "id": "e5aac0b8-67cf-496d-8b82-d7a2910ef36b",
   "metadata": {},
   "source": [
    "Before you begin, always remember to import the necessary libraries."
   ]
  },
  {
   "cell_type": "code",
   "execution_count": 4,
   "id": "33de4fa0-4c6b-412e-9d31-b60b777ec39a",
   "metadata": {},
   "outputs": [],
   "source": [
    "import numpy as np\n",
    "import pandas as pd"
   ]
  },
  {
   "cell_type": "markdown",
   "id": "a6be9786-ed96-4ab6-bf58-711b6fcef982",
   "metadata": {
    "tags": []
   },
   "source": [
    "#### Standard Exercises"
   ]
  },
  {
   "cell_type": "markdown",
   "id": "c3fb179c-cc45-45c5-a2fd-94500c2a6cf6",
   "metadata": {},
   "source": [
    "1. Given the follwing dictionary `sales_dict`, create a new `pandas` DataFrame from it and assign it to an object named `sales`. Show the `sales` DataFrame."
   ]
  },
  {
   "cell_type": "code",
   "execution_count": 5,
   "id": "94b10459-64bd-4fd7-8448-9c3df2ab5d7a",
   "metadata": {},
   "outputs": [],
   "source": [
    "# do not delete this cell\n",
    "sales_dict = {'categories': ['Goods', 'Services', 'Experiences'],\n",
    "              'units_sold': [140, 215, 95],\n",
    "              'total_revenue': [8400, 5375, 14250],\n",
    "              'cost_per_unit': [35, 10, 100]}"
   ]
  },
  {
   "cell_type": "code",
   "execution_count": 6,
   "id": "8d7bac15-49cf-4031-933f-6d2cc3fe40b2",
   "metadata": {},
   "outputs": [
    {
     "name": "stdout",
     "output_type": "stream",
     "text": [
      "    categories  units_sold  total_revenue  cost_per_unit\n",
      "0        Goods         140           8400             35\n",
      "1     Services         215           5375             10\n",
      "2  Experiences          95          14250            100\n"
     ]
    }
   ],
   "source": [
    "sales = pd.DataFrame(sales_dict)\n",
    "print(sales)"
   ]
  },
  {
   "cell_type": "markdown",
   "id": "b18c9f23-816f-4eaf-bede-906c8db7d32f",
   "metadata": {},
   "source": [
    "2. In the cells below show the following features of the `sales` DataFrame: \n",
    "\n",
    "- the object's data type\n",
    "- the shape\n",
    "- the column's data type"
   ]
  },
  {
   "cell_type": "code",
   "execution_count": 8,
   "id": "3796d94b-ca33-4319-bca6-028b3b987003",
   "metadata": {},
   "outputs": [
    {
     "name": "stdout",
     "output_type": "stream",
     "text": [
      "<class 'pandas.core.frame.DataFrame'>\n"
     ]
    }
   ],
   "source": [
    "print(type(sales))"
   ]
  },
  {
   "cell_type": "code",
   "execution_count": 9,
   "id": "184aca7e-4b69-41a5-91bb-e1b204ccfb4a",
   "metadata": {},
   "outputs": [
    {
     "name": "stdout",
     "output_type": "stream",
     "text": [
      "(3, 4)\n"
     ]
    }
   ],
   "source": [
    "print(sales.shape)"
   ]
  },
  {
   "cell_type": "code",
   "execution_count": 10,
   "id": "00efa439-5e96-4876-9ff1-44fde75f53bb",
   "metadata": {},
   "outputs": [
    {
     "name": "stdout",
     "output_type": "stream",
     "text": [
      "categories       object\n",
      "units_sold        int64\n",
      "total_revenue     int64\n",
      "cost_per_unit     int64\n",
      "dtype: object\n"
     ]
    }
   ],
   "source": [
    "print(sales.dtypes)"
   ]
  },
  {
   "cell_type": "markdown",
   "id": "fb729dce-b2f5-4210-9766-80cac7067d69",
   "metadata": {},
   "source": [
    "3. Calculate the total number of `units_sold` across all categories"
   ]
  },
  {
   "cell_type": "code",
   "execution_count": 15,
   "id": "8503d6cc-3a6c-4c00-80b8-82487f21717e",
   "metadata": {},
   "outputs": [
    {
     "name": "stdout",
     "output_type": "stream",
     "text": [
      "450\n"
     ]
    }
   ],
   "source": [
    "sum_units_sold = sum(sales[\"units_sold\"])\n",
    "print(sum_units_sold)"
   ]
  },
  {
   "cell_type": "markdown",
   "id": "f02c4bb8-233f-4450-93ff-d72fe691bb61",
   "metadata": {},
   "source": [
    "4. Add a new column to the DataFrame that multiplies `units_sold` by `cost_per_unit` and call it `total_cost`."
   ]
  },
  {
   "cell_type": "code",
   "execution_count": 16,
   "id": "092ea1e6-950c-4e44-af95-97fd3399477f",
   "metadata": {},
   "outputs": [
    {
     "name": "stdout",
     "output_type": "stream",
     "text": [
      "    categories  units_sold  total_revenue  cost_per_unit  total_cost\n",
      "0        Goods         140           8400             35        4900\n",
      "1     Services         215           5375             10        2150\n",
      "2  Experiences          95          14250            100        9500\n"
     ]
    }
   ],
   "source": [
    "sales[\"total_cost\"] = sales[\"cost_per_unit\"] * sales[\"units_sold\"]\n",
    "print(sales)"
   ]
  },
  {
   "cell_type": "markdown",
   "id": "0235ecfb-f535-44d4-8c56-2ad0886c1a4e",
   "metadata": {},
   "source": [
    "5. Add another column called `total_margin` where you show revenues net of costs. Then sort the dataset in descending order of `total_margin`. Which category generated the highest margins?"
   ]
  },
  {
   "cell_type": "code",
   "execution_count": 20,
   "id": "9a09839e-ca17-4efc-923c-741af22a3294",
   "metadata": {},
   "outputs": [
    {
     "data": {
      "text/html": [
       "<div>\n",
       "<style scoped>\n",
       "    .dataframe tbody tr th:only-of-type {\n",
       "        vertical-align: middle;\n",
       "    }\n",
       "\n",
       "    .dataframe tbody tr th {\n",
       "        vertical-align: top;\n",
       "    }\n",
       "\n",
       "    .dataframe thead th {\n",
       "        text-align: right;\n",
       "    }\n",
       "</style>\n",
       "<table border=\"1\" class=\"dataframe\">\n",
       "  <thead>\n",
       "    <tr style=\"text-align: right;\">\n",
       "      <th></th>\n",
       "      <th>categories</th>\n",
       "      <th>units_sold</th>\n",
       "      <th>total_revenue</th>\n",
       "      <th>cost_per_unit</th>\n",
       "      <th>total_cost</th>\n",
       "      <th>total_margin</th>\n",
       "    </tr>\n",
       "  </thead>\n",
       "  <tbody>\n",
       "    <tr>\n",
       "      <th>2</th>\n",
       "      <td>Experiences</td>\n",
       "      <td>95</td>\n",
       "      <td>14250</td>\n",
       "      <td>100</td>\n",
       "      <td>9500</td>\n",
       "      <td>4750</td>\n",
       "    </tr>\n",
       "    <tr>\n",
       "      <th>0</th>\n",
       "      <td>Goods</td>\n",
       "      <td>140</td>\n",
       "      <td>8400</td>\n",
       "      <td>35</td>\n",
       "      <td>4900</td>\n",
       "      <td>3500</td>\n",
       "    </tr>\n",
       "    <tr>\n",
       "      <th>1</th>\n",
       "      <td>Services</td>\n",
       "      <td>215</td>\n",
       "      <td>5375</td>\n",
       "      <td>10</td>\n",
       "      <td>2150</td>\n",
       "      <td>3225</td>\n",
       "    </tr>\n",
       "  </tbody>\n",
       "</table>\n",
       "</div>"
      ],
      "text/plain": [
       "    categories  units_sold  total_revenue  cost_per_unit  total_cost  \\\n",
       "2  Experiences          95          14250            100        9500   \n",
       "0        Goods         140           8400             35        4900   \n",
       "1     Services         215           5375             10        2150   \n",
       "\n",
       "   total_margin  \n",
       "2          4750  \n",
       "0          3500  \n",
       "1          3225  "
      ]
     },
     "execution_count": 20,
     "metadata": {},
     "output_type": "execute_result"
    }
   ],
   "source": [
    "sales[\"total_margin\"] = sales[\"total_revenue\"] - sales[\"total_cost\"]\n",
    "sales.sort_values(\"total_margin\", ascending=False)"
   ]
  },
  {
   "cell_type": "markdown",
   "id": "b6508fd5-f676-4b82-929e-fb956835e68a",
   "metadata": {},
   "source": [
    "6. Load the `tips.csv` dataset (read a description of this dataset [here](https://vincentarelbundock.github.io/Rdatasets/doc/reshape2/tips.html)) from the `data` folder, assign it to an object called `tips` and show it to the screen."
   ]
  },
  {
   "cell_type": "code",
   "execution_count": 21,
   "id": "27403e16-46b2-400b-a743-6a4a75b39e2b",
   "metadata": {},
   "outputs": [
    {
     "name": "stdout",
     "output_type": "stream",
     "text": [
      "   total_bill   tip     sex smoker  day    time  size\n",
      "0       16.99  1.01  Female     No  Sun  Dinner     2\n",
      "1       10.34  1.66    Male     No  Sun  Dinner     3\n",
      "2       21.01  3.50    Male     No  Sun  Dinner     3\n",
      "3       23.68  3.31    Male     No  Sun  Dinner     2\n",
      "4       24.59  3.61  Female     No  Sun  Dinner     4\n"
     ]
    }
   ],
   "source": [
    "tips = pd.read_csv(\"./data/tips.csv\")\n",
    "print(tips.head())"
   ]
  },
  {
   "cell_type": "markdown",
   "id": "aee746cd-b3eb-4ee0-bce0-cf9d0c107fa2",
   "metadata": {},
   "source": [
    "7. How many observations there are for each table `sex`?  "
   ]
  },
  {
   "cell_type": "code",
   "execution_count": 23,
   "id": "02c5d228-b6d8-4bd2-bc3d-31f411256f62",
   "metadata": {},
   "outputs": [
    {
     "name": "stdout",
     "output_type": "stream",
     "text": [
      "<class 'pandas.core.series.Series'>\n",
      "RangeIndex: 244 entries, 0 to 243\n",
      "Series name: sex\n",
      "Non-Null Count  Dtype \n",
      "--------------  ----- \n",
      "244 non-null    object\n",
      "dtypes: object(1)\n",
      "memory usage: 2.0+ KB\n",
      "None\n"
     ]
    }
   ],
   "source": [
    "print(tips[\"sex\"].info())"
   ]
  },
  {
   "cell_type": "markdown",
   "id": "0b65a605-5205-4ab3-8219-f7ee80c0fe38",
   "metadata": {},
   "source": [
    "8. Calculate the average tip amount for males and females. Who tips the most?"
   ]
  },
  {
   "cell_type": "code",
   "execution_count": 35,
   "id": "e8b11468-9241-4fb2-a4d4-76a4d66705b2",
   "metadata": {},
   "outputs": [
    {
     "name": "stdout",
     "output_type": "stream",
     "text": [
      "3.0896178343949043\n"
     ]
    }
   ],
   "source": [
    "# male tips\n",
    "male_tips = tips[tips[\"sex\"] == \"Male\"]\n",
    "print(np.average(male_tips[\"tip\"]))"
   ]
  },
  {
   "cell_type": "code",
   "execution_count": 27,
   "id": "ffda8e7b-9ec7-489d-885d-ba15b40a55a0",
   "metadata": {},
   "outputs": [
    {
     "name": "stdout",
     "output_type": "stream",
     "text": [
      "2.8334482758620685\n"
     ]
    }
   ],
   "source": [
    "# female tips\n",
    "female_tips = tips[tips[\"sex\"] == \"Female\"][\"tip\"]\n",
    "print(np.average(female_tips))"
   ]
  },
  {
   "cell_type": "markdown",
   "id": "98836b44-2ef5-4d38-b740-c7c07aeb8cb8",
   "metadata": {},
   "source": [
    "9. The amount of a tip will change depending on the total amount spent for the meal, so we should look at relative values, not absolute. Create a new variable `tip_pct` that calculates the percentage of the tip relative to the total bill amount."
   ]
  },
  {
   "cell_type": "code",
   "execution_count": 39,
   "id": "ffa84006-fd4e-41c2-acb6-3682863dba8a",
   "metadata": {},
   "outputs": [],
   "source": [
    "tips[\"tip_pct\"] = tips[\"tip\"] / tips[\"total_bill\"] * 100"
   ]
  },
  {
   "cell_type": "markdown",
   "id": "e5f34afd-70fd-4b99-b87a-62aee833db96",
   "metadata": {},
   "source": [
    "10. Calculate the average tip percentage for males and females. Who tips the most? Think about this inversion of outcome, what does it tell you?"
   ]
  },
  {
   "cell_type": "code",
   "execution_count": 40,
   "id": "f22a02c9-18a5-4b0b-a59e-77d8d09456f4",
   "metadata": {},
   "outputs": [
    {
     "name": "stdout",
     "output_type": "stream",
     "text": [
      "15.765054700429742\n"
     ]
    }
   ],
   "source": [
    "# male tips\n",
    "male_tips = tips[tips[\"sex\"] == \"Male\"]\n",
    "print(np.average(male_tips[\"tip_pct\"]))"
   ]
  },
  {
   "cell_type": "code",
   "execution_count": 41,
   "id": "86ba87c0-08f4-4d98-856d-1b3fa955be85",
   "metadata": {},
   "outputs": [
    {
     "name": "stdout",
     "output_type": "stream",
     "text": [
      "16.649073632892478\n"
     ]
    }
   ],
   "source": [
    "# female tips\n",
    "female_tips = tips[tips[\"sex\"] == \"Female\"]\n",
    "print(np.average(female_tips[\"tip_pct\"]))"
   ]
  },
  {
   "cell_type": "markdown",
   "id": "7c0fc767-d736-4252-8464-0fc915cf23a0",
   "metadata": {},
   "source": [
    "If you want <font color='red'>**to exercise more**</font> on pandas Series and DataFrames, check out [these 101 exercises](https://www.machinelearningplus.com/python/101-pandas-exercises-python/) with (hidden) solutions *(note: the first exersises are on series, then they move to DataFrames and exersises on `.read_csv()` start from #38. Also, note that we haven't covered all of those topics yet, but if you want, you're encouraged to explore them.)*"
   ]
  },
  {
   "cell_type": "markdown",
   "id": "6d8308ee-cf86-482c-9912-cafd0acd3780",
   "metadata": {
    "tags": []
   },
   "source": [
    "#### Advanced Exercises"
   ]
  },
  {
   "cell_type": "markdown",
   "id": "2e1532cd-c32d-4dc8-a5e5-b858b3c2147c",
   "metadata": {},
   "source": [
    "Let's reload the Google Analytics dataset that we saw in class and call it `ga` for brevity: "
   ]
  },
  {
   "cell_type": "code",
   "execution_count": 79,
   "id": "d6b4382b-55ab-4d9e-8721-a5e2302e4801",
   "metadata": {},
   "outputs": [
    {
     "data": {
      "text/html": [
       "<div>\n",
       "<style scoped>\n",
       "    .dataframe tbody tr th:only-of-type {\n",
       "        vertical-align: middle;\n",
       "    }\n",
       "\n",
       "    .dataframe tbody tr th {\n",
       "        vertical-align: top;\n",
       "    }\n",
       "\n",
       "    .dataframe thead th {\n",
       "        text-align: right;\n",
       "    }\n",
       "</style>\n",
       "<table border=\"1\" class=\"dataframe\">\n",
       "  <thead>\n",
       "    <tr style=\"text-align: right;\">\n",
       "      <th></th>\n",
       "      <th>Keyword</th>\n",
       "      <th>Users</th>\n",
       "      <th>New Users</th>\n",
       "      <th>Sessions</th>\n",
       "      <th>Bounce Rate</th>\n",
       "      <th>Pages/Session</th>\n",
       "      <th>Avg. Session Duration</th>\n",
       "      <th>E-commerce Conversion Rate</th>\n",
       "      <th>Transactions</th>\n",
       "      <th>Revenue</th>\n",
       "    </tr>\n",
       "  </thead>\n",
       "  <tbody>\n",
       "    <tr>\n",
       "      <th>0</th>\n",
       "      <td>Google Merchandise Store</td>\n",
       "      <td>1,051</td>\n",
       "      <td>753</td>\n",
       "      <td>1,455</td>\n",
       "      <td>27.29%</td>\n",
       "      <td>5.62</td>\n",
       "      <td>00:03:41</td>\n",
       "      <td>0.34%</td>\n",
       "      <td>5</td>\n",
       "      <td>US$256.96</td>\n",
       "    </tr>\n",
       "    <tr>\n",
       "      <th>1</th>\n",
       "      <td>google merch</td>\n",
       "      <td>103</td>\n",
       "      <td>82</td>\n",
       "      <td>145</td>\n",
       "      <td>28.28%</td>\n",
       "      <td>6.04</td>\n",
       "      <td>00:03:29</td>\n",
       "      <td>2.07%</td>\n",
       "      <td>3</td>\n",
       "      <td>US$86.09</td>\n",
       "    </tr>\n",
       "    <tr>\n",
       "      <th>2</th>\n",
       "      <td>google backpack</td>\n",
       "      <td>95</td>\n",
       "      <td>68</td>\n",
       "      <td>121</td>\n",
       "      <td>40.50%</td>\n",
       "      <td>4.20</td>\n",
       "      <td>00:02:27</td>\n",
       "      <td>0.00%</td>\n",
       "      <td>0</td>\n",
       "      <td>US$0.00</td>\n",
       "    </tr>\n",
       "    <tr>\n",
       "      <th>3</th>\n",
       "      <td>Google Merchandise</td>\n",
       "      <td>93</td>\n",
       "      <td>54</td>\n",
       "      <td>147</td>\n",
       "      <td>28.57%</td>\n",
       "      <td>5.37</td>\n",
       "      <td>00:03:23</td>\n",
       "      <td>0.68%</td>\n",
       "      <td>1</td>\n",
       "      <td>US$79.98</td>\n",
       "    </tr>\n",
       "    <tr>\n",
       "      <th>4</th>\n",
       "      <td>Google Apparel</td>\n",
       "      <td>92</td>\n",
       "      <td>76</td>\n",
       "      <td>127</td>\n",
       "      <td>37.80%</td>\n",
       "      <td>4.97</td>\n",
       "      <td>00:03:11</td>\n",
       "      <td>0.79%</td>\n",
       "      <td>1</td>\n",
       "      <td>US$76.37</td>\n",
       "    </tr>\n",
       "    <tr>\n",
       "      <th>5</th>\n",
       "      <td>youtuber merch</td>\n",
       "      <td>78</td>\n",
       "      <td>76</td>\n",
       "      <td>82</td>\n",
       "      <td>78.05%</td>\n",
       "      <td>1.41</td>\n",
       "      <td>00:00:06</td>\n",
       "      <td>0.00%</td>\n",
       "      <td>0</td>\n",
       "      <td>US$0.00</td>\n",
       "    </tr>\n",
       "    <tr>\n",
       "      <th>6</th>\n",
       "      <td>Google Swag</td>\n",
       "      <td>63</td>\n",
       "      <td>57</td>\n",
       "      <td>80</td>\n",
       "      <td>41.25%</td>\n",
       "      <td>5.10</td>\n",
       "      <td>00:04:14</td>\n",
       "      <td>0.00%</td>\n",
       "      <td>0</td>\n",
       "      <td>US$0.00</td>\n",
       "    </tr>\n",
       "    <tr>\n",
       "      <th>7</th>\n",
       "      <td>google merch store</td>\n",
       "      <td>54</td>\n",
       "      <td>38</td>\n",
       "      <td>69</td>\n",
       "      <td>28.99%</td>\n",
       "      <td>5.09</td>\n",
       "      <td>00:02:33</td>\n",
       "      <td>0.00%</td>\n",
       "      <td>0</td>\n",
       "      <td>US$0.00</td>\n",
       "    </tr>\n",
       "    <tr>\n",
       "      <th>8</th>\n",
       "      <td>Google Clothing</td>\n",
       "      <td>39</td>\n",
       "      <td>36</td>\n",
       "      <td>49</td>\n",
       "      <td>40.82%</td>\n",
       "      <td>3.98</td>\n",
       "      <td>00:02:43</td>\n",
       "      <td>0.00%</td>\n",
       "      <td>0</td>\n",
       "      <td>US$0.00</td>\n",
       "    </tr>\n",
       "  </tbody>\n",
       "</table>\n",
       "</div>"
      ],
      "text/plain": [
       "                    Keyword  Users  New Users Sessions Bounce Rate  \\\n",
       "0  Google Merchandise Store  1,051        753    1,455      27.29%   \n",
       "1              google merch    103         82      145      28.28%   \n",
       "2           google backpack     95         68      121      40.50%   \n",
       "3        Google Merchandise     93         54      147      28.57%   \n",
       "4            Google Apparel     92         76      127      37.80%   \n",
       "5            youtuber merch     78         76       82      78.05%   \n",
       "6               Google Swag     63         57       80      41.25%   \n",
       "7        google merch store     54         38       69      28.99%   \n",
       "8           Google Clothing     39         36       49      40.82%   \n",
       "\n",
       "   Pages/Session Avg. Session Duration E-commerce Conversion Rate  \\\n",
       "0           5.62              00:03:41                      0.34%   \n",
       "1           6.04              00:03:29                      2.07%   \n",
       "2           4.20              00:02:27                      0.00%   \n",
       "3           5.37              00:03:23                      0.68%   \n",
       "4           4.97              00:03:11                      0.79%   \n",
       "5           1.41              00:00:06                      0.00%   \n",
       "6           5.10              00:04:14                      0.00%   \n",
       "7           5.09              00:02:33                      0.00%   \n",
       "8           3.98              00:02:43                      0.00%   \n",
       "\n",
       "   Transactions    Revenue  \n",
       "0             5  US$256.96  \n",
       "1             3   US$86.09  \n",
       "2             0    US$0.00  \n",
       "3             1   US$79.98  \n",
       "4             1   US$76.37  \n",
       "5             0    US$0.00  \n",
       "6             0    US$0.00  \n",
       "7             0    US$0.00  \n",
       "8             0    US$0.00  "
      ]
     },
     "execution_count": 79,
     "metadata": {},
     "output_type": "execute_result"
    }
   ],
   "source": [
    "ga = pd.read_csv(\"data/GA Paid Search Traffic.csv\", skiprows=[0,1,2,3,4,5,8], nrows=9)\n",
    "ga"
   ]
  },
  {
   "cell_type": "markdown",
   "id": "48bccb3a-3744-4927-b5f3-34ba9b100280",
   "metadata": {},
   "source": [
    "In class we wrote the following statements to clean up the data:"
   ]
  },
  {
   "cell_type": "code",
   "execution_count": null,
   "id": "28f79eb4-44a5-48bb-9f61-b8c137eb98cf",
   "metadata": {},
   "outputs": [],
   "source": [
    "# DO NOT RUN\n",
    "\n",
    "# remove comma & convert to int\n",
    "ga_keywords[\"Users\"] = ga_keywords[\"Users\"].str.replace(',', '').astype('int64')\n",
    "ga_keywords[\"Sessions\"] = ga_keywords[\"Sessions\"].str.replace(',', '').astype('int64')\n",
    "# remove % & convert to float\n",
    "ga_keywords[\"Bounce Rate\"] = ga_keywords[\"Bounce Rate\"].str.replace('%', '').astype('float64')\n",
    "ga_keywords[\"E-commerce Conversion Rate\"] = ga_keywords[\"E-commerce Conversion Rate\"].str.replace('%', '').astype('float64')\n",
    "# remuve US$ & convert to float\n",
    "ga_keywords[\"Revenue\"] = ga_keywords[\"Revenue\"].str.replace('US$', '', regex=False).astype('float64')"
   ]
  },
  {
   "cell_type": "markdown",
   "id": "876038ba-9e58-4055-b5e2-35ac5cf11ff6",
   "metadata": {},
   "source": [
    "1. Your task is to write three functions `clean_comma()`, `clean_pct()` and `clean_usd()` to solve each of the above cases, such that you can pass the `df[\"colname\"]` as an argument to the function and reassign the result to the original column. Here are three examples of how you would use each function to clean a column: \n",
    "    - `ga[\"Users\"] = clean_comma(ga[\"Users\"])`\n",
    "    - `ga[\"Bounce Rate\"] = clean_pct(ga[\"Bounce Rate\"])`\n",
    "    - `ga[\"Revenue\"] = clean_usd(ga[\"Revenue\"])`"
   ]
  },
  {
   "cell_type": "code",
   "execution_count": 69,
   "id": "9ab53efa-6814-4219-be21-25554915acad",
   "metadata": {},
   "outputs": [],
   "source": [
    "# define the function clean_comma()\n",
    "def clean_comma(series):\n",
    "\treturn series.str.replace(',', '').astype('int64')"
   ]
  },
  {
   "cell_type": "code",
   "execution_count": 70,
   "id": "e8934b63-20de-4128-81fb-096be9b62889",
   "metadata": {},
   "outputs": [],
   "source": [
    "# call the function clean_comma()\n",
    "ga[\"Users\"] = clean_comma(ga[\"Users\"])\n",
    "ga[\"Sessions\"] = clean_comma(ga[\"Sessions\"])"
   ]
  },
  {
   "cell_type": "code",
   "execution_count": 71,
   "id": "ea09a0e8-e9b1-459c-9db6-07a0f80a0796",
   "metadata": {},
   "outputs": [],
   "source": [
    "# define the function clean_pct()\n",
    "def clean_pct(series):\n",
    "\treturn series.str.replace('%', '').astype('float64')"
   ]
  },
  {
   "cell_type": "code",
   "execution_count": 72,
   "id": "53951a2c-c9d0-4faa-992b-d950dec6789c",
   "metadata": {},
   "outputs": [],
   "source": [
    "# call the function clean_pct()\n",
    "ga[\"Bounce Rate\"] = clean_pct(ga[\"Bounce Rate\"])\n",
    "ga[\"E-commerce Conversion Rate\"] = clean_pct(ga[\"E-commerce Conversion Rate\"])"
   ]
  },
  {
   "cell_type": "code",
   "execution_count": 73,
   "id": "d725bd60-f6f2-4a82-9401-0ae55f6253e9",
   "metadata": {},
   "outputs": [],
   "source": [
    "# define the function clean_usd()\n",
    "def clean_usd(series):\n",
    "\treturn series.str.replace('US$', '', regex=False).astype('float64')"
   ]
  },
  {
   "cell_type": "code",
   "execution_count": 74,
   "id": "f97d28b0-b14c-444a-8025-0cf932bcb213",
   "metadata": {},
   "outputs": [],
   "source": [
    "# call the function clean_usd()\n",
    "ga[\"Revenue\"] = clean_usd(ga[\"Revenue\"])"
   ]
  },
  {
   "cell_type": "code",
   "execution_count": 76,
   "id": "040ab8ec-084c-4c4b-ba56-078ae5855804",
   "metadata": {},
   "outputs": [
    {
     "name": "stdout",
     "output_type": "stream",
     "text": [
      "                    Keyword  Users  New Users  Sessions  Bounce Rate  \\\n",
      "0  Google Merchandise Store   1051        753      1455        27.29   \n",
      "1              google merch    103         82       145        28.28   \n",
      "2           google backpack     95         68       121        40.50   \n",
      "3        Google Merchandise     93         54       147        28.57   \n",
      "4            Google Apparel     92         76       127        37.80   \n",
      "\n",
      "   Pages/Session Avg. Session Duration  E-commerce Conversion Rate  \\\n",
      "0           5.62              00:03:41                        0.34   \n",
      "1           6.04              00:03:29                        2.07   \n",
      "2           4.20              00:02:27                        0.00   \n",
      "3           5.37              00:03:23                        0.68   \n",
      "4           4.97              00:03:11                        0.79   \n",
      "\n",
      "   Transactions  Revenue  \n",
      "0             5   256.96  \n",
      "1             3    86.09  \n",
      "2             0     0.00  \n",
      "3             1    79.98  \n",
      "4             1    76.37  \n"
     ]
    }
   ],
   "source": [
    "# now check that the columns in the ga DataFrame have actually changed\n",
    "print(ga.head())"
   ]
  },
  {
   "cell_type": "markdown",
   "id": "47af4f80-ee4c-4fc8-9f81-e76b727a314c",
   "metadata": {},
   "source": [
    "2. Write one function `clean_function()` that can accomplish any of the three cases from the previous point by specifying extra parameters in the function call. Here are three examples of how you would use each function to clean a column: \n",
    "    - `ga[\"Users\"] = clean_function(ga[\"Users\"], ',', 'int64')`\n",
    "    - `ga[\"Bounce Rate\"] = clean_function(ga[\"Bounce Rate\"], '%', 'float64')`\n",
    "    - `ga[\"Revenue\"] = clean_function(ga[\"Revenue\"], 'US$', 'float64')`"
   ]
  },
  {
   "cell_type": "code",
   "execution_count": 83,
   "id": "64eba6ac-5add-479b-8333-607c1dcc7f36",
   "metadata": {},
   "outputs": [],
   "source": [
    "# define the function clean_function()\n",
    "def clean_function(series, string_to_remove, cast_as_type):\n",
    "\treturn series.str.replace(string_to_remove, \"\").astype(cast_as_type)"
   ]
  },
  {
   "cell_type": "code",
   "execution_count": 90,
   "id": "a9bdd4ae-dc65-4f6e-aa7e-0b3d4aa7e241",
   "metadata": {},
   "outputs": [],
   "source": [
    "ga = pd.read_csv(\"data/GA Paid Search Traffic.csv\", skiprows=[0,1,2,3,4,5,8], nrows=9)\n",
    "# call the function clean_function()\n",
    "ga[\"Users\"] = clean_function(ga[\"Users\"], ',', 'int64')\n",
    "ga[\"Sessions\"] = clean_function(ga[\"Sessions\"], ',', 'int64')\n",
    "ga[\"Bounce Rate\"] = clean_function(ga[\"Bounce Rate\"], '%', 'float64')\n",
    "ga[\"E-commerce Conversion Rate\"] = clean_function(ga[\"E-commerce Conversion Rate\"], '%', 'float64')\n",
    "ga[\"Revenue\"] = clean_function(ga[\"Revenue\"], 'US$', 'float64')"
   ]
  },
  {
   "cell_type": "code",
   "execution_count": 91,
   "id": "01263d69-e0c0-498e-a5be-2557cf1c7835",
   "metadata": {},
   "outputs": [
    {
     "name": "stdout",
     "output_type": "stream",
     "text": [
      "                    Keyword  Users  New Users  Sessions  Bounce Rate  \\\n",
      "0  Google Merchandise Store   1051        753      1455        27.29   \n",
      "1              google merch    103         82       145        28.28   \n",
      "2           google backpack     95         68       121        40.50   \n",
      "3        Google Merchandise     93         54       147        28.57   \n",
      "4            Google Apparel     92         76       127        37.80   \n",
      "\n",
      "   Pages/Session Avg. Session Duration  E-commerce Conversion Rate  \\\n",
      "0           5.62              00:03:41                        0.34   \n",
      "1           6.04              00:03:29                        2.07   \n",
      "2           4.20              00:02:27                        0.00   \n",
      "3           5.37              00:03:23                        0.68   \n",
      "4           4.97              00:03:11                        0.79   \n",
      "\n",
      "   Transactions  Revenue  \n",
      "0             5   256.96  \n",
      "1             3    86.09  \n",
      "2             0     0.00  \n",
      "3             1    79.98  \n",
      "4             1    76.37  \n"
     ]
    }
   ],
   "source": [
    "# now check that the columns in the ga DataFrame have actually changed\n",
    "print(ga.head())"
   ]
  }
 ],
 "metadata": {
  "kernelspec": {
   "display_name": "Python 3 (ipykernel)",
   "language": "python",
   "name": "python3"
  },
  "language_info": {
   "codemirror_mode": {
    "name": "ipython",
    "version": 3
   },
   "file_extension": ".py",
   "mimetype": "text/x-python",
   "name": "python",
   "nbconvert_exporter": "python",
   "pygments_lexer": "ipython3",
   "version": "3.12.3"
  }
 },
 "nbformat": 4,
 "nbformat_minor": 5
}
